{
 "cells": [
  {
   "cell_type": "markdown",
   "metadata": {},
   "source": [
    "### PARAMETERS & CONSTANTS\n",
    "\n",
    "```\n",
    "IMG_WIDTH = 0 ##???? -> model.in\n",
    "IMG_HEIGHT = 0 ##???? -> model.in\n",
    "CAM_SIZE_X = 0 ##???? -> model.in\n",
    "CAM_SIZE_Y = 0 ##???? -> model.in\n",
    "cutoff_inner = 0. ##???? - WHAT VALUE? -> utilities.c\n",
    "\n",
    "INCLINATION = 0. ##???? - WHAT VALUE? -> Inclination, i, in Degrees -> From paper.\n",
    "\n",
    "##????stopx values -> Seems to be used in RadTrans -> IGNORED FOR NOW \n",
    "\n",
    "## icur, x, y, p, t, Xcam, Ucam -> WHAT VALUES ARE PASSED? SEE BELOW!\n",
    "## icur, Xcam, Ucam are related to RadTrans, not RT\n",
    "## p is for monolithic data storage, it seems\n",
    "## t is useless for RT, as stationary spacetime\n",
    "## x, y -> Current pixel location\n",
    "## IGNORING icur, Xcam, Ucam, p, t\n",
    "```"
   ]
  },
  {
   "cell_type": "markdown",
   "metadata": {},
   "source": [
    "### Original Geodesic ODE:\n",
    "$${\\frac  {d^{2}x^{a}}{ds^{2}}}+\\Gamma _{{bc}}^{{a}}{\\frac  {dx^{b}}{ds}}{\\frac  {dx^{c}}{ds}}=0$$\n",
    "$$\\Gamma _{{bc}}^{a}={\\frac  {1}{2}}g^{{ad}}\\left(g_{{cd,b}}+g_{{bd,c}}-g_{{bc,d}}\\right)$$\n",
    "### RK4:\n",
    "$$\\frac{\\mathrm{d}X^\\alpha}{\\mathrm{d}\\lambda} = U^\\alpha$$\n",
    "$$\\frac{\\mathrm{d}U^\\alpha}{\\mathrm{d}\\lambda} = -\\Gamma^\\alpha_{\\mu\\nu}U^\\mu U^\\nu = A^\\alpha$$\n",
    "Changing $x$ to $X$ (4-Position); $U$ and $A$ are 4-velocity and 4-accelaration, respectively.\n",
    "#### Coefficients:\n",
    "* For $X^\\alpha$:\n",
    "$$C_{1,X^\\alpha} = \\Delta\\lambda U^\\alpha$$\n",
    "$$C_{2,X^\\alpha} = \\Delta\\lambda \\left(U^\\alpha + \\frac{1}{2}C_{1,X^\\alpha}\\right)$$\n",
    "$$C_{3,X^\\alpha} = \\Delta\\lambda \\left(U^\\alpha + \\frac{1}{2}C_{2,X^\\alpha}\\right)$$\n",
    "$$C_{4,X^\\alpha} = \\Delta\\lambda \\left(U^\\alpha + C_{3,X^\\alpha}\\right)$$\n",
    "* For $U^\\alpha$:\n",
    "$$C_{1,U^\\alpha} = \\Delta\\lambda f^\\alpha\\left(X^i, U^i\\right)$$\n",
    "$$C_{2,U^\\alpha} = \\Delta\\lambda f^\\alpha\\left(X^i + \\frac{1}{2}C_{1,U^i}, U^i + \\frac{1}{2}C_{1,U^i}\\right)$$\n",
    "$$C_{3,U^\\alpha} = \\Delta\\lambda f^\\alpha\\left(X^i + \\frac{1}{2}C_{2,U^i}, U^i + \\frac{1}{2}C_{2,U^i}\\right)$$\n",
    "$$C_{4,U^\\alpha} = \\Delta\\lambda f^\\alpha\\left(X^i + C_{3,U^i}, U^i + C_{3,U^i}\\right)$$\n",
    "<br>\n",
    "$f^\\alpha(X^i, U^i) = f(X^1, X^2, X^3, X^4, U^1, U^2, U^3, U^4) = -\\Gamma^\\alpha_{\\mu\\nu}U^\\mu U^\\nu = -\\Gamma^\\alpha_{\\mu\\nu}\\frac{\\mathrm{d}X^\\mu}{\\mathrm{d}\\lambda}\\frac{\\mathrm{d}X^\\nu}{\\mathrm{d}\\lambda}$\n",
    "\n",
    "#### Update at each step, $\\Delta\\lambda$:\n",
    "$$X^\\alpha_{new} = X^\\alpha + \\frac{1}{6}\\left(C_{1, X^\\alpha} + 2C_{2, X^\\alpha} + 2C_{3, X^\\alpha} + C_{4, X^\\alpha}\\right) + \\mathcal{O}(\\Delta\\lambda^5)$$\n",
    "$$U^\\alpha_{new} = U^\\alpha + \\frac{1}{6}\\left(C_{1, U^\\alpha} + 2C_{2, U^\\alpha} + 2C_{3, U^\\alpha} + C_{4, U^\\alpha}\\right) + \\mathcal{O}(\\Delta\\lambda^5)$$\n",
    "<br>\n",
    "\n",
    "#### For initial photon wave vector, $k^\\alpha_0$:\n",
    "$$L = -\\alpha E\\sqrt{1 - \\cos^2 i}$$\n",
    "$$Q = E^2\\left[\\beta^2 + \\cos^2 i (\\alpha^2 - 1)\\right]$$\n",
    "$$k_t = -E$$\n",
    "$$k_\\phi = L$$\n",
    "$$k_\\theta = sgn(\\beta)\\sqrt{|Q - L^2\\cot^2\\theta + E^2\\cos^2\\theta |}$$"
   ]
  },
  {
   "cell_type": "markdown",
   "metadata": {},
   "source": [
    "### STRATEGY:\n",
    "* Convert all to SI, maybe -> NO:TOO LARGE OR SMALL NUMBERS IN CALC -> STICK WITH GEOM UNITS.\n",
    "\n",
    "1. Provide $x^\\alpha_0$ and $k^\\alpha_0$ in BL Coordinates -> Use values from Bronzwaer et al -> Convert to Cartesian for $x^\\alpha_0$.\n",
    "2. Provide $E$, $L$, $Q$ to define $k^\\alpha_0$ -> Use values from Bronzwaer et al.\n",
    "3. Calculate the coefficients, $C$ (TOTAL 8*4 = 32 IN NUMBER, per STEP)\n",
    "4. Need a Christoffel Symbols calculator -> Use the `lambdified tensor`\n",
    "\n",
    "#### PHOTON WAVE VECTOR (`photon_u` in code):\n",
    "`photon_u` is a len 8 array, having initial 4-pos and 4-vel of the photon, at a particular pixel in the image.\n",
    "* For $k^\\alpha_0 == U^\\alpha_0$:\n",
    "    * $E$ -> BASE PARAM -> 1 in Bronzwaer's code\n",
    "    * $L$ -> Depends on $E$, $\\alpha$, $i$ -> Calculated\n",
    "    * $Q$ -> Depends on $E$, $\\alpha$, $\\beta$, $i$ -> Calculated\n",
    "* For $X^\\alpha_0$:\n",
    "    * $\\alpha$ -> BASE PARAM -> Calculated\n",
    "    * $\\beta$ -> BASE PARAM -> Calculated\n",
    "    * $i$ -> BASE PARAM -> 90Deg and 60Deg to be tested, as in Bronzwaer's Paper/Code\n",
    "        * Initially, simpler inclinations should be tested.\n",
    "    * $a$ -> BASE PARAM -> 0.998, from Bronzwaer's Paper/Code\n",
    "\n",
    "#### INPUTS TO `integrate_geodesic`:\n",
    "* `x` -> X-pos in image\n",
    "* `y` -> Y-pos in image\n",
    "\n",
    "#### NOTES:\n",
    "* Spacetime -> Kerr\n",
    "* Coordinates -> Boyer-Lindquist\n",
    "* $G = c = 1$ (Geometrized Units)\n",
    "* $r_s = 2$ (For RayTracing only)\n",
    "* $M = 1$ (For RayTracing only)"
   ]
  },
  {
   "cell_type": "markdown",
   "metadata": {},
   "source": [
    "### LIST OF FUNCTIONS AND THEIR USE (In RayTracing)\n",
    "* 5/6 functions, in total:\n",
    "    * `integrate_geodesic`\n",
    "        * Takes `x` and `y` (initial photon pos in the image) -> Calculates `alpha` and `beta`, using them.\n",
    "        * Calls:\n",
    "            * `initialize_photon` : to initialize `photon_u`, the initial photon wave vector\n",
    "            * `stepsize` : to obtain optimal stepsize, for the next integration step\n",
    "            * `rk4_step` : to move integration by 1 step\n",
    "    * `initialize_photon`\n",
    "        * Prepares initial photon wave vector, at a particular `alpha`, `beta` or `x`, `y` in the image.\n",
    "    * `stepsize`\n",
    "        * Returns optimal integration step size.\n",
    "    * `rk4_step`\n",
    "        * RK4 Integrator for each step, based on the scheme above.\n",
    "        * Calls:\n",
    "            * `f_geodesic` : to obtain the RHS values, in above coupled ODES.\n",
    "    * `f_geodesic`\n",
    "        * Calls:\n",
    "            * `cs_lambda` : Lambda Function, to calculate the Christoffel Symbols Matrix, at each step<br>\n",
    "            ( ⬆ **THIS TAKES THE MOST AMOUNT OF TIME** ⬆ )"
   ]
  },
  {
   "cell_type": "markdown",
   "metadata": {},
   "source": [
    "## Current Results:\n",
    "1. Integrator works.\n",
    "2. It's very slow, averaging ~5 minutes, per step, for the same initial conditions, as Bronzwaer's paper. For context, it will takes tens of hours to finish calculations, at this rate.\n",
    "3. It takes an egregiously high amount of RAM. ![test](RAM USAGE.png)\n",
    "4. `cs_lambda` calculations take too long.\n",
    "5. "
   ]
  },
  {
   "cell_type": "markdown",
   "metadata": {},
   "source": [
    "## TODO:\n",
    "* Implementation:\n",
    "    * Understand RAPTOR's code and implement RayTracing (RT) : ✅\n",
    "    * Find out the unit system in use and which one's more suitable : ✅ (Geom & Geom)\n",
    "    * What Parametets & Constants are needed : ✅\n",
    "\n",
    "* Optimization\n",
    "    * Make `cs_lambda` a function, with pre-calculated values, like Bronzwaer have done. Although, not expecting speed improvements here.\n",
    "    * Look into Verlet Implementation\n",
    "    * JIT stuff\n",
    "    \n",
    "* Future Work:\n",
    "    * Radiative Transfer\n",
    "    * Still more optimization"
   ]
  },
  {
   "cell_type": "markdown",
   "metadata": {},
   "source": [
    "# TESTING GROUND BELOW. CHECK `INTEGRATOR.ipynb` FOR ACTUAL CODE."
   ]
  },
  {
   "cell_type": "code",
   "execution_count": 1,
   "metadata": {},
   "outputs": [],
   "source": [
    "from einsteinpy.symbolic import ChristoffelSymbols, MetricTensor, Tensor\n",
    "from einsteinpy.symbolic.predefined import Kerr\n",
    "from sympy import symbols\n",
    "import numpy as np\n",
    "from einsteinpy.constant import c as sol"
   ]
  },
  {
   "cell_type": "code",
   "execution_count": 2,
   "metadata": {},
   "outputs": [],
   "source": [
    "chris_sym = ChristoffelSymbols.from_metric(metric=Kerr()) # In BL Coordinates\n",
    "chris_arr = chris_sym.simplify() # Simplified NDimArray"
   ]
  },
  {
   "cell_type": "code",
   "execution_count": 3,
   "metadata": {},
   "outputs": [
    {
     "data": {
      "text/latex": [
       "$\\displaystyle \\left[\\begin{matrix}\\left[\\begin{matrix}0 & \\frac{r_{s} \\left(a^{2} + r^{2}\\right) \\left(- a^{2} \\cos^{2}{\\left(\\theta \\right)} + r^{2}\\right)}{2 \\left(a^{2} \\cos^{2}{\\left(\\theta \\right)} + r^{2}\\right)^{2} \\left(a^{2} + r^{2} - r r_{s}\\right)} & - \\frac{2 a^{2} r r_{s} \\sin{\\left(2 \\theta \\right)}}{\\left(a^{2} \\cos{\\left(2 \\theta \\right)} + a^{2} + 2 r^{2}\\right)^{2}} & 0\\\\\\frac{r_{s} \\left(a^{2} + r^{2}\\right) \\left(- a^{2} \\cos^{2}{\\left(\\theta \\right)} + r^{2}\\right)}{2 \\left(a^{2} \\cos^{2}{\\left(\\theta \\right)} + r^{2}\\right)^{2} \\left(a^{2} + r^{2} - r r_{s}\\right)} & 0 & 0 & - \\frac{a r_{s} \\left(- a^{4} \\cos^{2}{\\left(\\theta \\right)} + a^{2} r^{2} \\cos^{2}{\\left(\\theta \\right)} + a^{2} r^{2} + 3 r^{4}\\right) \\sin^{2}{\\left(\\theta \\right)}}{2 c \\left(a^{2} \\cos^{2}{\\left(\\theta \\right)} + r^{2}\\right)^{2} \\left(a^{2} + r^{2} - r r_{s}\\right)}\\\\- \\frac{2 a^{2} r r_{s} \\sin{\\left(2 \\theta \\right)}}{\\left(a^{2} \\cos{\\left(2 \\theta \\right)} + a^{2} + 2 r^{2}\\right)^{2}} & 0 & 0 & \\frac{a^{3} r r_{s} \\sin^{3}{\\left(\\theta \\right)} \\cos{\\left(\\theta \\right)}}{c \\left(a^{2} \\cos^{2}{\\left(\\theta \\right)} + r^{2}\\right)^{2}}\\\\0 & - \\frac{a r_{s} \\left(- a^{4} \\cos^{2}{\\left(\\theta \\right)} + a^{2} r^{2} \\cos^{2}{\\left(\\theta \\right)} + a^{2} r^{2} + 3 r^{4}\\right) \\sin^{2}{\\left(\\theta \\right)}}{2 c \\left(a^{2} \\cos^{2}{\\left(\\theta \\right)} + r^{2}\\right)^{2} \\left(a^{2} + r^{2} - r r_{s}\\right)} & \\frac{a^{3} r r_{s} \\sin^{3}{\\left(\\theta \\right)} \\cos{\\left(\\theta \\right)}}{c \\left(a^{2} \\cos^{2}{\\left(\\theta \\right)} + r^{2}\\right)^{2}} & 0\\end{matrix}\\right] & \\left[\\begin{matrix}\\frac{r_{s} c^{2} \\left(- a^{2} \\cos^{2}{\\left(\\theta \\right)} + r^{2}\\right) \\left(a^{2} + r^{2} - r r_{s}\\right)}{2 \\left(a^{2} \\cos^{2}{\\left(\\theta \\right)} + r^{2}\\right)^{3}} & 0 & 0 & \\frac{a r_{s} c \\left(a^{2} \\cos^{2}{\\left(\\theta \\right)} - r^{2}\\right) \\left(a^{2} + r^{2} - r r_{s}\\right) \\sin^{2}{\\left(\\theta \\right)}}{2 \\left(a^{2} \\cos^{2}{\\left(\\theta \\right)} + r^{2}\\right)^{3}}\\\\0 & \\frac{r \\left(a^{2} + r^{2} - r r_{s}\\right) + \\frac{\\left(- 2 r + r_{s}\\right) \\left(a^{2} \\cos^{2}{\\left(\\theta \\right)} + r^{2}\\right)}{2}}{\\left(a^{2} \\cos^{2}{\\left(\\theta \\right)} + r^{2}\\right) \\left(a^{2} + r^{2} - r r_{s}\\right)} & - \\frac{a^{2} \\sin{\\left(2 \\theta \\right)}}{a^{2} \\cos{\\left(2 \\theta \\right)} + a^{2} + 2 r^{2}} & 0\\\\0 & - \\frac{a^{2} \\sin{\\left(2 \\theta \\right)}}{a^{2} \\cos{\\left(2 \\theta \\right)} + a^{2} + 2 r^{2}} & - \\frac{r \\left(a^{2} + r^{2} - r r_{s}\\right)}{a^{2} \\cos^{2}{\\left(\\theta \\right)} + r^{2}} & 0\\\\\\frac{a r_{s} c \\left(a^{2} \\cos^{2}{\\left(\\theta \\right)} - r^{2}\\right) \\left(a^{2} + r^{2} - r r_{s}\\right) \\sin^{2}{\\left(\\theta \\right)}}{2 \\left(a^{2} \\cos^{2}{\\left(\\theta \\right)} + r^{2}\\right)^{3}} & 0 & 0 & \\frac{\\left(- a^{2} - r^{2} + r r_{s}\\right) \\left(- 2 a^{2} r^{2} r_{s} \\sin^{2}{\\left(\\theta \\right)} + a^{2} r_{s} \\left(a^{2} \\cos^{2}{\\left(\\theta \\right)} + r^{2}\\right) \\sin^{2}{\\left(\\theta \\right)} + 2 r \\left(a^{2} \\cos^{2}{\\left(\\theta \\right)} + r^{2}\\right)^{2}\\right) \\sin^{2}{\\left(\\theta \\right)}}{2 \\left(a^{2} \\cos^{2}{\\left(\\theta \\right)} + r^{2}\\right)^{3}}\\end{matrix}\\right] & \\left[\\begin{matrix}- \\frac{4 a^{2} r r_{s} c^{2} \\sin{\\left(2 \\theta \\right)}}{\\left(a^{2} \\cos{\\left(2 \\theta \\right)} + a^{2} + 2 r^{2}\\right)^{3}} & 0 & 0 & \\frac{4 a r r_{s} c \\left(a^{2} + r^{2}\\right) \\sin{\\left(2 \\theta \\right)}}{\\left(a^{2} \\cos{\\left(2 \\theta \\right)} + a^{2} + 2 r^{2}\\right)^{3}}\\\\0 & \\frac{a^{2} \\sin{\\left(2 \\theta \\right)}}{\\left(a^{2} + r^{2} - r r_{s}\\right) \\left(a^{2} \\cos{\\left(2 \\theta \\right)} + a^{2} + 2 r^{2}\\right)} & \\frac{r}{a^{2} \\cos^{2}{\\left(\\theta \\right)} + r^{2}} & 0\\\\0 & \\frac{r}{a^{2} \\cos^{2}{\\left(\\theta \\right)} + r^{2}} & - \\frac{a^{2} \\sin{\\left(2 \\theta \\right)}}{a^{2} \\cos{\\left(2 \\theta \\right)} + a^{2} + 2 r^{2}} & 0\\\\\\frac{4 a r r_{s} c \\left(a^{2} + r^{2}\\right) \\sin{\\left(2 \\theta \\right)}}{\\left(a^{2} \\cos{\\left(2 \\theta \\right)} + a^{2} + 2 r^{2}\\right)^{3}} & 0 & 0 & - \\frac{\\left(a^{2} r r_{s} \\left(a^{2} + r^{2}\\right) \\sin^{2}{\\left(\\theta \\right)} + \\left(a^{2} \\cos^{2}{\\left(\\theta \\right)} + r^{2}\\right) \\left(a^{2} r r_{s} \\sin^{2}{\\left(\\theta \\right)} + \\left(a^{2} + r^{2}\\right) \\left(a^{2} \\cos^{2}{\\left(\\theta \\right)} + r^{2}\\right)\\right)\\right) \\sin{\\left(\\theta \\right)} \\cos{\\left(\\theta \\right)}}{\\left(a^{2} \\cos^{2}{\\left(\\theta \\right)} + r^{2}\\right)^{3}}\\end{matrix}\\right] & \\left[\\begin{matrix}0 & \\frac{a r_{s} c \\left(- a^{2} \\cos^{2}{\\left(\\theta \\right)} + r^{2}\\right)}{2 \\left(a^{2} \\cos^{2}{\\left(\\theta \\right)} + r^{2}\\right)^{2} \\left(a^{2} + r^{2} - r r_{s}\\right)} & - \\frac{a r r_{s} c}{\\left(a^{2} \\cos^{2}{\\left(\\theta \\right)} + r^{2}\\right)^{2} \\tan{\\left(\\theta \\right)}} & 0\\\\\\frac{a r_{s} c \\left(- a^{2} \\cos^{2}{\\left(\\theta \\right)} + r^{2}\\right)}{2 \\left(a^{2} \\cos^{2}{\\left(\\theta \\right)} + r^{2}\\right)^{2} \\left(a^{2} + r^{2} - r r_{s}\\right)} & 0 & 0 & \\frac{2 a^{4} r \\left(1 - \\cos^{2}{\\left(\\theta \\right)}\\right)^{2} + 4 a^{4} r \\cos^{2}{\\left(\\theta \\right)} - 2 a^{4} r - a^{4} r_{s} \\left(1 - \\cos^{2}{\\left(\\theta \\right)}\\right)^{2} - a^{4} r_{s} \\cos^{2}{\\left(\\theta \\right)} + a^{4} r_{s} + 4 a^{2} r^{3} \\cos^{2}{\\left(\\theta \\right)} - a^{2} r^{2} r_{s} \\cos^{2}{\\left(\\theta \\right)} - a^{2} r^{2} r_{s} + 2 r^{5} - 2 r^{4} r_{s}}{2 \\left(a^{2} \\cos^{2}{\\left(\\theta \\right)} + r^{2}\\right)^{2} \\left(a^{2} + r^{2} - r r_{s}\\right)}\\\\- \\frac{a r r_{s} c}{\\left(a^{2} \\cos^{2}{\\left(\\theta \\right)} + r^{2}\\right)^{2} \\tan{\\left(\\theta \\right)}} & 0 & 0 & \\frac{a^{2} r^{2} r_{s}^{2} \\left(a^{2} + r^{2}\\right) \\sin^{2}{\\left(\\theta \\right)} - \\left(a^{2} r r_{s} \\left(a^{2} + r^{2}\\right) \\sin^{2}{\\left(\\theta \\right)} + \\left(a^{2} \\cos^{2}{\\left(\\theta \\right)} + r^{2}\\right) \\left(a^{2} r r_{s} \\sin^{2}{\\left(\\theta \\right)} + \\left(a^{2} + r^{2}\\right) \\left(a^{2} \\cos^{2}{\\left(\\theta \\right)} + r^{2}\\right)\\right)\\right) \\left(- a^{2} \\cos^{2}{\\left(\\theta \\right)} - r^{2} + r r_{s}\\right)}{\\left(a^{2} \\cos^{2}{\\left(\\theta \\right)} + r^{2}\\right)^{3} \\left(a^{2} + r^{2} - r r_{s}\\right) \\tan{\\left(\\theta \\right)}}\\\\0 & \\frac{2 a^{4} r \\left(1 - \\cos^{2}{\\left(\\theta \\right)}\\right)^{2} + 4 a^{4} r \\cos^{2}{\\left(\\theta \\right)} - 2 a^{4} r - a^{4} r_{s} \\left(1 - \\cos^{2}{\\left(\\theta \\right)}\\right)^{2} - a^{4} r_{s} \\cos^{2}{\\left(\\theta \\right)} + a^{4} r_{s} + 4 a^{2} r^{3} \\cos^{2}{\\left(\\theta \\right)} - a^{2} r^{2} r_{s} \\cos^{2}{\\left(\\theta \\right)} - a^{2} r^{2} r_{s} + 2 r^{5} - 2 r^{4} r_{s}}{2 \\left(a^{2} \\cos^{2}{\\left(\\theta \\right)} + r^{2}\\right)^{2} \\left(a^{2} + r^{2} - r r_{s}\\right)} & \\frac{a^{2} r^{2} r_{s}^{2} \\left(a^{2} + r^{2}\\right) \\sin^{2}{\\left(\\theta \\right)} - \\left(a^{2} r r_{s} \\left(a^{2} + r^{2}\\right) \\sin^{2}{\\left(\\theta \\right)} + \\left(a^{2} \\cos^{2}{\\left(\\theta \\right)} + r^{2}\\right) \\left(a^{2} r r_{s} \\sin^{2}{\\left(\\theta \\right)} + \\left(a^{2} + r^{2}\\right) \\left(a^{2} \\cos^{2}{\\left(\\theta \\right)} + r^{2}\\right)\\right)\\right) \\left(- a^{2} \\cos^{2}{\\left(\\theta \\right)} - r^{2} + r r_{s}\\right)}{\\left(a^{2} \\cos^{2}{\\left(\\theta \\right)} + r^{2}\\right)^{3} \\left(a^{2} + r^{2} - r r_{s}\\right) \\tan{\\left(\\theta \\right)}} & 0\\end{matrix}\\right]\\end{matrix}\\right]$"
      ],
      "text/plain": [
       "[[[0, r_s*(a**2 + r**2)*(-a**2*cos(theta)**2 + r**2)/(2*(a**2*cos(theta)**2 + r**2)**2*(a**2 + r**2 - r*r_s)), -2*a**2*r*r_s*sin(2*theta)/(a**2*cos(2*theta) + a**2 + 2*r**2)**2, 0], [r_s*(a**2 + r**2)*(-a**2*cos(theta)**2 + r**2)/(2*(a**2*cos(theta)**2 + r**2)**2*(a**2 + r**2 - r*r_s)), 0, 0, -a*r_s*(-a**4*cos(theta)**2 + a**2*r**2*cos(theta)**2 + a**2*r**2 + 3*r**4)*sin(theta)**2/(2*c*(a**2*cos(theta)**2 + r**2)**2*(a**2 + r**2 - r*r_s))], [-2*a**2*r*r_s*sin(2*theta)/(a**2*cos(2*theta) + a**2 + 2*r**2)**2, 0, 0, a**3*r*r_s*sin(theta)**3*cos(theta)/(c*(a**2*cos(theta)**2 + r**2)**2)], [0, -a*r_s*(-a**4*cos(theta)**2 + a**2*r**2*cos(theta)**2 + a**2*r**2 + 3*r**4)*sin(theta)**2/(2*c*(a**2*cos(theta)**2 + r**2)**2*(a**2 + r**2 - r*r_s)), a**3*r*r_s*sin(theta)**3*cos(theta)/(c*(a**2*cos(theta)**2 + r**2)**2), 0]], [[r_s*c**2*(-a**2*cos(theta)**2 + r**2)*(a**2 + r**2 - r*r_s)/(2*(a**2*cos(theta)**2 + r**2)**3), 0, 0, a*r_s*c*(a**2*cos(theta)**2 - r**2)*(a**2 + r**2 - r*r_s)*sin(theta)**2/(2*(a**2*cos(theta)**2 + r**2)**3)], [0, (r*(a**2 + r**2 - r*r_s) + (-2*r + r_s)*(a**2*cos(theta)**2 + r**2)/2)/((a**2*cos(theta)**2 + r**2)*(a**2 + r**2 - r*r_s)), -a**2*sin(2*theta)/(a**2*cos(2*theta) + a**2 + 2*r**2), 0], [0, -a**2*sin(2*theta)/(a**2*cos(2*theta) + a**2 + 2*r**2), -r*(a**2 + r**2 - r*r_s)/(a**2*cos(theta)**2 + r**2), 0], [a*r_s*c*(a**2*cos(theta)**2 - r**2)*(a**2 + r**2 - r*r_s)*sin(theta)**2/(2*(a**2*cos(theta)**2 + r**2)**3), 0, 0, (-a**2 - r**2 + r*r_s)*(-2*a**2*r**2*r_s*sin(theta)**2 + a**2*r_s*(a**2*cos(theta)**2 + r**2)*sin(theta)**2 + 2*r*(a**2*cos(theta)**2 + r**2)**2)*sin(theta)**2/(2*(a**2*cos(theta)**2 + r**2)**3)]], [[-4*a**2*r*r_s*c**2*sin(2*theta)/(a**2*cos(2*theta) + a**2 + 2*r**2)**3, 0, 0, 4*a*r*r_s*c*(a**2 + r**2)*sin(2*theta)/(a**2*cos(2*theta) + a**2 + 2*r**2)**3], [0, a**2*sin(2*theta)/((a**2 + r**2 - r*r_s)*(a**2*cos(2*theta) + a**2 + 2*r**2)), r/(a**2*cos(theta)**2 + r**2), 0], [0, r/(a**2*cos(theta)**2 + r**2), -a**2*sin(2*theta)/(a**2*cos(2*theta) + a**2 + 2*r**2), 0], [4*a*r*r_s*c*(a**2 + r**2)*sin(2*theta)/(a**2*cos(2*theta) + a**2 + 2*r**2)**3, 0, 0, -(a**2*r*r_s*(a**2 + r**2)*sin(theta)**2 + (a**2*cos(theta)**2 + r**2)*(a**2*r*r_s*sin(theta)**2 + (a**2 + r**2)*(a**2*cos(theta)**2 + r**2)))*sin(theta)*cos(theta)/(a**2*cos(theta)**2 + r**2)**3]], [[0, a*r_s*c*(-a**2*cos(theta)**2 + r**2)/(2*(a**2*cos(theta)**2 + r**2)**2*(a**2 + r**2 - r*r_s)), -a*r*r_s*c/((a**2*cos(theta)**2 + r**2)**2*tan(theta)), 0], [a*r_s*c*(-a**2*cos(theta)**2 + r**2)/(2*(a**2*cos(theta)**2 + r**2)**2*(a**2 + r**2 - r*r_s)), 0, 0, (2*a**4*r*(1 - cos(theta)**2)**2 + 4*a**4*r*cos(theta)**2 - 2*a**4*r - a**4*r_s*(1 - cos(theta)**2)**2 - a**4*r_s*cos(theta)**2 + a**4*r_s + 4*a**2*r**3*cos(theta)**2 - a**2*r**2*r_s*cos(theta)**2 - a**2*r**2*r_s + 2*r**5 - 2*r**4*r_s)/(2*(a**2*cos(theta)**2 + r**2)**2*(a**2 + r**2 - r*r_s))], [-a*r*r_s*c/((a**2*cos(theta)**2 + r**2)**2*tan(theta)), 0, 0, (a**2*r**2*r_s**2*(a**2 + r**2)*sin(theta)**2 - (a**2*r*r_s*(a**2 + r**2)*sin(theta)**2 + (a**2*cos(theta)**2 + r**2)*(a**2*r*r_s*sin(theta)**2 + (a**2 + r**2)*(a**2*cos(theta)**2 + r**2)))*(-a**2*cos(theta)**2 - r**2 + r*r_s))/((a**2*cos(theta)**2 + r**2)**3*(a**2 + r**2 - r*r_s)*tan(theta))], [0, (2*a**4*r*(1 - cos(theta)**2)**2 + 4*a**4*r*cos(theta)**2 - 2*a**4*r - a**4*r_s*(1 - cos(theta)**2)**2 - a**4*r_s*cos(theta)**2 + a**4*r_s + 4*a**2*r**3*cos(theta)**2 - a**2*r**2*r_s*cos(theta)**2 - a**2*r**2*r_s + 2*r**5 - 2*r**4*r_s)/(2*(a**2*cos(theta)**2 + r**2)**2*(a**2 + r**2 - r*r_s)), (a**2*r**2*r_s**2*(a**2 + r**2)*sin(theta)**2 - (a**2*r*r_s*(a**2 + r**2)*sin(theta)**2 + (a**2*cos(theta)**2 + r**2)*(a**2*r*r_s*sin(theta)**2 + (a**2 + r**2)*(a**2*cos(theta)**2 + r**2)))*(-a**2*cos(theta)**2 - r**2 + r*r_s))/((a**2*cos(theta)**2 + r**2)**3*(a**2 + r**2 - r*r_s)*tan(theta)), 0]]]"
      ]
     },
     "execution_count": 3,
     "metadata": {},
     "output_type": "execute_result"
    }
   ],
   "source": [
    "chris_arr"
   ]
  },
  {
   "cell_type": "code",
   "execution_count": 4,
   "metadata": {},
   "outputs": [
    {
     "data": {
      "text/latex": [
       "$\\displaystyle \\frac{\\left(a^{2} \\cos^{2}{\\left(\\theta \\right)} - 1.0 r^{2}\\right) \\left(- a^{2} - r^{2} + 2.0 r\\right)}{\\left(a^{2} \\cos^{2}{\\left(\\theta \\right)} + r^{2}\\right)^{3}}$"
      ],
      "text/plain": [
       "(a**2*cos(theta)**2 - 1.0*r**2)*(-a**2 - r**2 + 2.0*r)/(a**2*cos(theta)**2 + r**2)**3"
      ]
     },
     "execution_count": 4,
     "metadata": {},
     "output_type": "execute_result"
    }
   ],
   "source": [
    "from sympy import cos\n",
    "r, a, theta, sigma, delta = symbols('r a theta sigma delta')\n",
    "\n",
    "sigma   = r * r + a * a * cos(theta) * cos(theta)\n",
    "delta   = r * r + a * a - 2. * r\n",
    "sigma3 = sigma * sigma * sigma\n",
    "\n",
    "gam_100 = delta / sigma3 * (2. * r * r - sigma)\n",
    "gam_100.simplify()\n",
    "# COMPARE WITH chris_arr[1, 0, 0] => SHOWS THAT M = 1 => r_s == 2."
   ]
  },
  {
   "cell_type": "code",
   "execution_count": 5,
   "metadata": {},
   "outputs": [
    {
     "name": "stderr",
     "output_type": "stream",
     "text": [
      "e:\\coding\\winpython\\wpy64-3740\\python-3.7.4.amd64\\lib\\site-packages\\numpy\\__init__.py:2: RuntimeWarning: invalid value encountered in double_scalars\n",
      "  NumPy\n",
      "e:\\coding\\winpython\\wpy64-3740\\python-3.7.4.amd64\\lib\\site-packages\\numpy\\__init__.py:2: RuntimeWarning: divide by zero encountered in double_scalars\n",
      "  NumPy\n"
     ]
    },
    {
     "data": {
      "text/plain": [
       "False"
      ]
     },
     "execution_count": 5,
     "metadata": {},
     "output_type": "execute_result"
    }
   ],
   "source": [
    "cs_lambda = chris_sym.tensor_lambdify()[1]\n",
    "\n",
    "np.allclose(cs_lambda(t=0, r=0, theta=0, phi=0, a=1, c=1, r_s=2), cs_lambda(t=1000, r=0, theta=0, phi=0, a=1, c=1, r_s=2))\n",
    "# 't' is useless, of course. This is a stationary metric.\n",
    "# Beware of False Negatives, because of 'inf' in the arrays, due to chosen initial conditions."
   ]
  },
  {
   "cell_type": "code",
   "execution_count": 6,
   "metadata": {},
   "outputs": [
    {
     "data": {
      "text/plain": [
       "numpy.ndarray"
      ]
     },
     "execution_count": 6,
     "metadata": {},
     "output_type": "execute_result"
    }
   ],
   "source": [
    "type(np.array(cs_lambda(t=0, r=1, theta=1, phi=1, a=1, c=1, r_s=2)))"
   ]
  },
  {
   "cell_type": "code",
   "execution_count": 7,
   "metadata": {},
   "outputs": [],
   "source": [
    "np.array?"
   ]
  },
  {
   "cell_type": "code",
   "execution_count": 8,
   "metadata": {},
   "outputs": [
    {
     "data": {
      "text/plain": [
       "3.141592653589793"
      ]
     },
     "execution_count": 8,
     "metadata": {},
     "output_type": "execute_result"
    }
   ],
   "source": [
    "np.pi"
   ]
  },
  {
   "cell_type": "code",
   "execution_count": 9,
   "metadata": {},
   "outputs": [
    {
     "data": {
      "text/plain": [
       "[10, 2000, 1.369438406004566, 1.5707963267948966]"
      ]
     },
     "execution_count": 9,
     "metadata": {},
     "output_type": "execute_result"
    }
   ],
   "source": [
    "l = False\n",
    "r = 100\n",
    "rc = 2000\n",
    "mu0 = 0.2\n",
    "arra = [10, np.log(r) if l else rc, np.arccos(mu0), 90./180. * np.pi]\n",
    "arra"
   ]
  },
  {
   "cell_type": "code",
   "execution_count": 10,
   "metadata": {},
   "outputs": [
    {
     "data": {
      "text/plain": [
       "-1"
      ]
     },
     "execution_count": 10,
     "metadata": {},
     "output_type": "execute_result"
    }
   ],
   "source": [
    "np.sign(-2)"
   ]
  },
  {
   "cell_type": "code",
   "execution_count": 11,
   "metadata": {},
   "outputs": [
    {
     "data": {
      "text/plain": [
       "array([4., 5., 6., 7.])"
      ]
     },
     "execution_count": 11,
     "metadata": {},
     "output_type": "execute_result"
    }
   ],
   "source": [
    "import numpy as np\n",
    "ax = np.arange(8)\n",
    "axt = np.zeros(4)\n",
    "axt[:] = ax[4:]\n",
    "axt"
   ]
  },
  {
   "cell_type": "code",
   "execution_count": 12,
   "metadata": {},
   "outputs": [
    {
     "data": {
      "text/plain": [
       "array([1., 1., 1., 1.])"
      ]
     },
     "execution_count": 12,
     "metadata": {},
     "output_type": "execute_result"
    }
   ],
   "source": [
    "axtq = np.ones(4)\n",
    "axtq"
   ]
  },
  {
   "cell_type": "code",
   "execution_count": 13,
   "metadata": {},
   "outputs": [
    {
     "data": {
      "text/plain": [
       "array([0, 1, 2, 3, 4, 5, 6, 7])"
      ]
     },
     "execution_count": 13,
     "metadata": {},
     "output_type": "execute_result"
    }
   ],
   "source": [
    "ax[:]"
   ]
  },
  {
   "cell_type": "code",
   "execution_count": 14,
   "metadata": {},
   "outputs": [
    {
     "data": {
      "text/plain": [
       "array([1, 1, 1, 1, 4, 5, 6, 7])"
      ]
     },
     "execution_count": 14,
     "metadata": {},
     "output_type": "execute_result"
    }
   ],
   "source": [
    "ax[:4] = axtq[:]\n",
    "ax"
   ]
  },
  {
   "cell_type": "code",
   "execution_count": 15,
   "metadata": {},
   "outputs": [
    {
     "data": {
      "text/plain": [
       "20"
      ]
     },
     "execution_count": 15,
     "metadata": {},
     "output_type": "execute_result"
    }
   ],
   "source": [
    "np.abs(-20)"
   ]
  },
  {
   "cell_type": "code",
   "execution_count": 16,
   "metadata": {},
   "outputs": [],
   "source": [
    "DIM = 2\n",
    "g = np.ones((4,4,4), dtype=float)\n",
    "u = np.ones(4, dtype=float)\n",
    "au = np.zeros(4, dtype=float)"
   ]
  },
  {
   "cell_type": "code",
   "execution_count": 17,
   "metadata": {
    "scrolled": true
   },
   "outputs": [
    {
     "name": "stdout",
     "output_type": "stream",
     "text": [
      "i\t\tj\t\tk\t\tau\n",
      "--\t\t--\t\t--\t\t--\n",
      "0\t\t0\t\t0\t\t[-1.  0.  0.  0.]\n",
      "0\t\t0\t\t1\t\t[-2.  0.  0.  0.]\n",
      "0\t\t1\t\t0\t\t[-3.  0.  0.  0.]\n",
      "0\t\t1\t\t1\t\t[-4.  0.  0.  0.]\n",
      "1\t\t0\t\t0\t\t[-4. -1.  0.  0.]\n",
      "1\t\t0\t\t1\t\t[-4. -2.  0.  0.]\n",
      "1\t\t1\t\t0\t\t[-4. -3.  0.  0.]\n",
      "1\t\t1\t\t1\t\t[-4. -4.  0.  0.]\n"
     ]
    }
   ],
   "source": [
    "print('i', 'j', 'k', 'au', sep='\\t\\t')\n",
    "print('--\\t\\t--\\t\\t--\\t\\t--')\n",
    "for i in range(DIM):\n",
    "    for j in range(DIM):\n",
    "        for k in range(DIM):\n",
    "            au[i] -= g[i, j, k] * u[j] * u[k]\n",
    "            print(i, j, k, au, sep='\\t\\t')"
   ]
  },
  {
   "cell_type": "code",
   "execution_count": 18,
   "metadata": {},
   "outputs": [
    {
     "data": {
      "text/plain": [
       "-8.0"
      ]
     },
     "execution_count": 18,
     "metadata": {},
     "output_type": "execute_result"
    }
   ],
   "source": [
    "au[0] - g[0,0,0]*u[0]*u[0] - g[0,0,1]*u[0]*u[1] - g[0,1,0]*u[1]*u[0] - g[0,1,1]*u[1]*u[1]"
   ]
  },
  {
   "cell_type": "code",
   "execution_count": 19,
   "metadata": {
    "scrolled": true
   },
   "outputs": [
    {
     "data": {
      "text/plain": [
       "array([[0.51058625, 0.86055054, 0.98567648],\n",
       "       [0.18085177, 0.50271058, 0.15778365],\n",
       "       [0.77382761, 0.37291036, 0.18684177],\n",
       "       [0.84769702, 0.00650707, 0.20256297],\n",
       "       [0.76832964, 0.133751  , 0.39283366],\n",
       "       [0.52581794, 0.43242643, 0.82121197],\n",
       "       [0.33248898, 0.69981349, 0.71328133],\n",
       "       [0.72116436, 0.44801304, 0.57220389],\n",
       "       [0.6860434 , 0.14245101, 0.33897326],\n",
       "       [0.95394705, 0.77425345, 0.35173137]])"
      ]
     },
     "execution_count": 19,
     "metadata": {},
     "output_type": "execute_result"
    }
   ],
   "source": [
    "arra = np.random.rand(30).reshape((10,3))\n",
    "arra"
   ]
  },
  {
   "cell_type": "code",
   "execution_count": 20,
   "metadata": {},
   "outputs": [
    {
     "data": {
      "image/png": "[encoded data removed]",
      "text/plain": [
       "<Figure size 432x288 with 1 Axes>"
      ]
     },
     "metadata": {
      "needs_background": "light"
     },
     "output_type": "display_data"
    }
   ],
   "source": [
    "from mpl_toolkits.mplot3d import Axes3D\n",
    "\n",
    "import matplotlib.pyplot as plt\n",
    "import numpy as np\n",
    "\n",
    "fig = plt.figure()\n",
    "ax = fig.add_subplot(111, projection='3d')\n",
    "\n",
    "for xs, ys, zs in arra:\n",
    "    ax.scatter(xs, ys, zs, color='red')\n",
    "\n",
    "ax.plot(arra[:,0], arra[:,1], arra[:,2], 'black')\n",
    "ax.set_xlabel('X Label')\n",
    "ax.set_ylabel('Y Label')\n",
    "ax.set_zlabel('Z Label')\n",
    "\n",
    "plt.show()"
   ]
  },
  {
   "cell_type": "code",
   "execution_count": 21,
   "metadata": {},
   "outputs": [
    {
     "name": "stdout",
     "output_type": "stream",
     "text": [
      "0.0 0.0 0.0\n",
      "0.0 0.0 0.0\n",
      "0.0 0.0 0.0\n",
      "0.0 0.0 0.0\n",
      "0.0 0.0 0.0\n",
      "0.0 0.0 0.0\n",
      "0.0 0.0 0.0\n",
      "0.0 0.0 0.0\n",
      "0.0 0.0 0.0\n",
      "0.0 0.0 0.0\n"
     ]
    }
   ],
   "source": [
    "arra = np.zeros((10,3))\n",
    "\n",
    "for i, j, k in list(arra):\n",
    "    print(i, j, k)"
   ]
  },
  {
   "cell_type": "code",
   "execution_count": 22,
   "metadata": {},
   "outputs": [],
   "source": [
    "arral =[[1,2,3], [4,5,6]]"
   ]
  },
  {
   "cell_type": "code",
   "execution_count": 23,
   "metadata": {},
   "outputs": [
    {
     "name": "stdout",
     "output_type": "stream",
     "text": [
      "1 2 3\n",
      "4 5 6\n"
     ]
    },
    {
     "ename": "IndexError",
     "evalue": "list index out of range",
     "output_type": "error",
     "traceback": [
      "\u001b[1;31m---------------------------------------------------------------------------\u001b[0m",
      "\u001b[1;31mIndexError\u001b[0m                                Traceback (most recent call last)",
      "\u001b[1;32m<ipython-input-23-c686ce4e4636>\u001b[0m in \u001b[0;36m<module>\u001b[1;34m\u001b[0m\n\u001b[0;32m      2\u001b[0m     \u001b[0mprint\u001b[0m\u001b[1;33m(\u001b[0m\u001b[0mi\u001b[0m\u001b[1;33m,\u001b[0m \u001b[0mj\u001b[0m\u001b[1;33m,\u001b[0m \u001b[0mk\u001b[0m\u001b[1;33m)\u001b[0m\u001b[1;33m\u001b[0m\u001b[1;33m\u001b[0m\u001b[0m\n\u001b[0;32m      3\u001b[0m \u001b[1;33m\u001b[0m\u001b[0m\n\u001b[1;32m----> 4\u001b[1;33m \u001b[0mplt\u001b[0m\u001b[1;33m.\u001b[0m\u001b[0mplot\u001b[0m\u001b[1;33m(\u001b[0m\u001b[0marral\u001b[0m\u001b[1;33m[\u001b[0m\u001b[1;33m:\u001b[0m\u001b[1;33m]\u001b[0m\u001b[1;33m[\u001b[0m\u001b[1;36m0\u001b[0m\u001b[1;33m]\u001b[0m\u001b[1;33m,\u001b[0m \u001b[0marral\u001b[0m\u001b[1;33m[\u001b[0m\u001b[1;33m:\u001b[0m\u001b[1;33m]\u001b[0m\u001b[1;33m[\u001b[0m\u001b[1;36m1\u001b[0m\u001b[1;33m]\u001b[0m\u001b[1;33m,\u001b[0m \u001b[0marral\u001b[0m\u001b[1;33m[\u001b[0m\u001b[1;33m:\u001b[0m\u001b[1;33m]\u001b[0m\u001b[1;33m[\u001b[0m\u001b[1;36m2\u001b[0m\u001b[1;33m]\u001b[0m\u001b[1;33m)\u001b[0m\u001b[1;33m\u001b[0m\u001b[1;33m\u001b[0m\u001b[0m\n\u001b[0m",
      "\u001b[1;31mIndexError\u001b[0m: list index out of range"
     ]
    }
   ],
   "source": [
    "for i, j, k in arral:\n",
    "    print(i, j, k)\n",
    "    \n",
    "plt.plot(arral[:][0], arral[:][1], arral[:][2])"
   ]
  },
  {
   "cell_type": "code",
   "execution_count": null,
   "metadata": {},
   "outputs": [],
   "source": [
    "arral"
   ]
  },
  {
   "cell_type": "code",
   "execution_count": null,
   "metadata": {},
   "outputs": [],
   "source": [
    "for i in range(1):\n",
    "    print(i)"
   ]
  },
  {
   "cell_type": "code",
   "execution_count": null,
   "metadata": {},
   "outputs": [],
   "source": [
    "##FROM core.c\n",
    "# int lmax = (int)((real)IMG_HEIGHT*IMG_WIDTH/(real)maxsize + 0.5);\n",
    "# if(lmax==0)\n",
    "#         lmax=1.;\n",
    "\n",
    "# int l1,l2;\n",
    "# for(int l=0; l<lmax; l++) {\n",
    "#     l1 =(int)l*maxsize;\n",
    "#     l2 =(int)(l+1)*maxsize;\n",
    "\n",
    "\n",
    "# l1 =(int)l*maxsize;\n",
    "# l2 =(int)(l+1)*maxsize;\n",
    "\n",
    "# if(l2 >(IMG_WIDTH)*(IMG_HEIGHT))\n",
    "#         l2 =(IMG_WIDTH)*(IMG_HEIGHT);\n",
    "\n",
    "\n",
    "# for(int i=l1; i < l2; i++) { // For all pixel rows (distributed over threads)...\n",
    "#     int y=(int)(i/IMG_WIDTH);\n",
    "#     int x=(int)(i%IMG_WIDTH);\n",
    "\n",
    "#     // INTEGRATE THIS PIXEL'S GEODESIC AND PERFORM RADIATIVE TRANSFER AT DESIRED FREQUENCIES, STORE RESULTS\n",
    "#     int icur=(int)(i-l1);\n",
    "#     integrate_geodesic(icur,x,y,intensityfield2,frequencies,p,TIME_INIT,Xcam,Ucam);\n",
    "# }"
   ]
  }
 ],
 "metadata": {
  "kernelspec": {
   "display_name": "Python 3",
   "language": "python",
   "name": "python3"
  },
  "language_info": {
   "codemirror_mode": {
    "name": "ipython",
    "version": 3
   },
   "file_extension": ".py",
   "mimetype": "text/x-python",
   "name": "python",
   "nbconvert_exporter": "python",
   "pygments_lexer": "ipython3",
   "version": "3.7.4"
  }
 },
 "nbformat": 4,
 "nbformat_minor": 4
}
