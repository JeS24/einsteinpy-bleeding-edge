{
 "cells": [
  {
   "cell_type": "markdown",
   "metadata": {},
   "source": [
    "## `YNOGK` - Yang et al - 2013\n",
    "\n",
    "This paper provides Fortran90 codes for null geodesic calculations, in Kerr Spacetimes (Rotating Black Holes).\n",
    "\n",
    "* Reading the paper... ✅\n",
    "* Went through the examples in YNOGK and obtained these plots (Fortran).\n",
    "\n",
    "![Circular Orbits](./images/raylinesp_1.png)\n",
    "![RayTracing in IDL](./images/raylinesp_2.png)\n",
    "![Black Hole Shadow](./images/weaklens1_16.png)\n",
    "![Weak Gravitational Lensing](./images/weaklens12_1.png)\n",
    "![Warped Spacetime](./images/warp1_2.png)\n",
    "\n",
    "* Wrote ``f2py`` wrappers for one of the six modules.\n",
    "* Code is poorly formatted and ill suited for direct `f2py` conversion. Will require major effort (and more importantly, time) to refactor the code.\n",
    "\n",
    "#### NOTES:\n",
    "\n",
    "* Not continuing with the `f2py` conversion. It requries `IDL`, which is proprietary  and the open source version (`GDL`) doesn't work well. The license seems to allow the conversion, but the file is too long to refactor in one go.\n",
    "* A non-programmatic comparison with other papers is a better way to handle this. After all, `YNOGK` is not the only way to approach the Null Geodesic Problem."
   ]
  },
  {
   "cell_type": "code",
   "execution_count": null,
   "metadata": {},
   "outputs": [],
   "source": []
  }
 ],
 "metadata": {
  "language_info": {
   "codemirror_mode": {
    "name": "ipython",
    "version": 3
   },
   "file_extension": ".py",
   "mimetype": "text/x-python",
   "name": "python",
   "nbconvert_exporter": "python",
   "pygments_lexer": "ipython3",
   "version": 3
  },
  "orig_nbformat": 2
 },
 "nbformat": 4,
 "nbformat_minor": 2
}