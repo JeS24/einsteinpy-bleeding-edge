{
 "nbformat": 4,
 "nbformat_minor": 2,
 "metadata": {
  "language_info": {
   "name": "python",
   "codemirror_mode": {
    "name": "ipython",
    "version": 3
   },
   "version": "3.7.4-final"
  },
  "orig_nbformat": 2,
  "file_extension": ".py",
  "mimetype": "text/x-python",
  "name": "python",
  "npconvert_exporter": "python",
  "pygments_lexer": "ipython3",
  "version": 3,
  "kernelspec": {
   "name": "c039e46f-3260-4b91-a38b-244b22d4033d",
   "display_name": "'Python Interactive'"
  }
 },
 "cells": [
  {
   "cell_type": "markdown",
   "metadata": {},
   "source": [
    "## PROGRESS DOCUMENTATION -- JeS24\n",
    "\n",
    "I intend to record my progress with the various papers/software on the topic of Null Geodesics, here, as discussed in my GSoC 2020 proposal.\n",
    "\n",
    "### List of papers/software, to be explored (Evolving):\n",
    "\n",
    "| Paper Title | Author(s) | Link to code (if any) |\n",
    "|-------------|-----------|-----------------------:|\n",
    "| Radiation transfer of emission lines in curved space-time (2003) | [Fuerst et al](https://www.aanda.org/articles/aa/abs/2004/36/aa0814/aa0814.html) | |\n",
    "| YNOGK: A new public code for calculating null geodesics in the Kerr spacetime (2013) | [Yang et al](https://arxiv.org/abs/1305.1250) | [YNOGK on Author's Homepage](http://www1.ynao.ac.cn/~yangxl/yxl.html) |\n",
    "| A FAST NEW PUBLIC CODE FOR COMPUTING PHOTON ORBITS IN A KERR SPACETIME (2009) | [Dexter et al](https://iopscience.iop.org/article/10.1088/0004-637X/696/2/1616) | ⚠ NOT FOUND\n",
    "| RAPTOR I. Time-dependent radiative transfer in arbitrary spacetimes (2018) | [Bronzwaer et al](https://doi.org/10.1051/0004-6361/201732149) | [RAPTOR on GitHub](https://github.com/tbronzwaer/raptor) |\n",
    "| General relativistic radiative transfer code in rotating black hole space–time: ARTIST (2017) | [Takahashi et al](https://academic.oup.com/mnras/article/464/4/4567/2562611) | [ARTIST on ASCL](https://youngstars.nbi.dk/artist/Welcome.html)|\n",
    "| The Black Hole Accretion Code (2017) | [Porth et al](https://comp-astrophys-cosmol.springeropen.com/articles/10.1186/s40668-017-0020-2) | [BHAC on GitLab](https://gitlab.itp.uni-frankfurt.de/BHAC-release/bhac) |\n",
    "|`grtrans` | LINK TO BE ADDED | LINK TO BE ADDED |\n",
    "&nbsp\n",
    "\n",
    "N.B.1: Please check `review.md` for a verbose comparison and summary of important points.<br>\n",
    "N.B.2: I have not considered [`projectkerr.pdf`](http://www.math.mcgill.ca/gantumur/math599w17/project-kerr.pdf) here. Please check `review.md` for discussion.\n",
    "\n",
    "### NOTES:\n",
    "\n",
    "* RAPTOR is new and seems truly general.\n",
    "\n",
    "* BHAC is highly promising.\n",
    "    - It is free and modifiable/extensible (GNU GPLv3).\n",
    "    - It is CPU parallelized. May also support GPUs (More research needed).\n",
    "    - It bridges to python (currently for plotting only).\n"
   ]
  },
  {
   "cell_type": "markdown",
   "metadata": {},
   "source": [
    "### Paper 1 - `YNOGK` - Yang et al\n",
    "\n",
    "This paper provides Fortran90 codes for null geodesic calculations, in Kerr Spacetimes (Rotating Black Holes).\n",
    "\n",
    "| ToDo | Motive | Status |\n",
    "|:---|:---:|---:|\n",
    "| Run F90 code and obtain plots | To test the code | ✅ |\n",
    "| Use ``F2PY`` to make python wrappers | To test the interconvertability | ⚠ |\n",
    "&nbsp\n",
    "\n",
    "| Issues | Resolution |\n",
    "|:--------|------------:|\n",
    "| Requirement of IDL for plotting | Using GDL |\n",
    "| GDL is difficult to setup on Windows | Using ``gfortran`` + GDL on WSL |\n",
    "| Code is poorly formatted for use with `f2py` | Refactor is the only way |\n",
    "| Refactor is impractical | ⚠ |\n",
    "\n",
    "#### NOTES:\n",
    "\n",
    "* Not continuing with the `f2py` conversion. The license seems to allow it, but the file is too long to refactor in one go.\n",
    "* A non-programmatic comparison with other papers is a better way to handle this. After all, `YNOGK` is not the only way to approach the Null Geodesic Problem."
   ]
  },
  {
   "cell_type": "markdown",
   "metadata": {},
   "source": [
    "### PROGRESS\n",
    "\n",
    "* Reading the paper... ✅\n",
    "* Went through the examples in YNOGK and obtained these plots (Fortran).\n",
    "\n",
    "![Circular Orbits](./YNOGK/images/raylinesp_1.png)\n",
    "![RayTracing in IDL](./YNOGK/images/raylinesp_2.png)\n",
    "![Black Hole Shadow](./YNOGK/images/weaklens1_16.png)\n",
    "![Weak Gravitational Lensing](./YNOGK/images/weaklens12_1.png)\n",
    "![Warped Spacetime](./YNOGK/images/warp1_2.png)\n",
    "\n",
    "* Wrote ``f2py`` wrappers for one of the six modules.\n",
    "* Code is poorly formatted and ill suited for direct `f2py` conversion. Will require major effort (more importantly, time) to refactor the code."
   ]
  },
  {
   "cell_type": "markdown",
   "metadata": {},
   "source": [
    "### Paper 2 - `geokerr` - Dexter et al\n",
    "\n",
    "* Reading the paper... ✅\n",
    "* Could not find the FORTRAN code for this. Paper has results, similar to `YNOGK`.\n",
    "* Found a more recent project from the same (main) author [grtrans](https://github.com/jadexter/grtrans). Will look into this."
   ]
  },
  {
   "cell_type": "markdown",
   "metadata": {},
   "source": [
    "### Paper 3 - `RAPTOR` - Bronzwaer et al\n",
    "\n",
    "* Reading the paper... ⚙"
   ]
  },
  {
   "cell_type": "markdown",
   "metadata": {},
   "source": [
    "### Paper 4 - `ODYSSEY` - Pu et al\n",
    "\n",
    "* Reading the paper... ⚙"
   ]
  },
  {
   "cell_type": "markdown",
   "metadata": {},
   "source": [
    "### Paper 5 - `BHAC` - Porth et al\n",
    "\n",
    "* Reading the paper... ⚙"
   ]
  },
  {
   "cell_type": "markdown",
   "metadata": {},
   "source": [
    "### Paper 6 - `ARTIST` - Takahashi et al\n",
    "\n",
    "* Reading the paper... ⚙"
   ]
  },
  {
   "cell_type": "markdown",
   "metadata": {},
   "source": [
    "`grtrans`, `starless`, `projectkerr` to be added here..."
   ]
  }
 ]
}